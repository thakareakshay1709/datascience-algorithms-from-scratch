{
 "cells": [
  {
   "cell_type": "markdown",
   "id": "e3af75c2",
   "metadata": {},
   "source": [
    "### Theory & Maths about Linear Regression\n",
    "\n",
    "1. Training linear regression means finding the best coefficients\n",
    "2. Best coefficients can be obtained with gradient decent algorithm\n",
    "\n",
    "### Math behind linear regression\n",
    "\n",
    "1. Y = mx + c (m = slopes, c = intercept)\n",
    "2. Finding weights (slopes) and bias (intercepts) can be done with gradient decent\n",
    "\n",
    "$$ \\large \\hat{y} = wx + b $$\n",
    "\n",
    "Cost function -  To minimize Mean Squared Error\n",
    "$$ \\large MSE = \\frac{1}{N} \\sum_{i=1}^{n} ((y_i - \\hat{y})^2 $$\n",
    "\n",
    "$$ \\large MSE = \\frac{1}{N} \\sum_{i=1}^{n} ((y_i - (wx_i + b))^2 $$\n",
    "\n",
    "MSE with respect to each parameter\n",
    "$$ \\large \\partial_w = \\frac{1}{N} \\sum_{i=1}^{n} 2x_i(\\hat{y} - y) $$\n",
    "$$ \\large \\partial_b = \\frac{1}{N} \\sum_{i=1}^{n} 2(\\hat{y} - y) $$\n",
    "\n",
    "Updating weithts and bias\n",
    "\n",
    "$$ \\large w = w - \\alpha \\cdot \\partial_w $$\n",
    "$$ \\large b = b - \\alpha \\cdot \\partial_b $$"
   ]
  },
  {
   "cell_type": "code",
   "execution_count": 21,
   "id": "089d30ca",
   "metadata": {},
   "outputs": [],
   "source": [
    "# important packages\n",
    "from sklearn.datasets import load_diabetes # toy dataset\n",
    "from sklearn.model_selection import train_test_split # to split datasets\n",
    "from sklearn.linear_model import LinearRegression # for comparision\n",
    "from sklearn.metrics import mean_squared_error # to evaluate loss function\n",
    "import numpy as np"
   ]
  },
  {
   "cell_type": "code",
   "execution_count": 22,
   "id": "ccd431ad",
   "metadata": {},
   "outputs": [],
   "source": [
    "class MyLinearRegression:\n",
    "    \n",
    "    def __init__(self, learning_rate=0.01, no_iterations=10000):\n",
    "        self.learning_rate = learning_rate\n",
    "        self.no_iterations = no_iterations\n",
    "        self.weights, self.bias = None, None\n",
    "        self.loss = []\n",
    "    \n",
    "    @staticmethod\n",
    "    def _mean_sqr_error(y, y_hat):\n",
    "        error = 0\n",
    "        for i in range(len(y)):\n",
    "            error += (y[i] - y_hat[i]) **2\n",
    "        return error / len(y)\n",
    "    \n",
    "    def fit(self, X, y):\n",
    "        self.weights = np.zeros(X.shape[1])\n",
    "        self.bias = 0\n",
    "        \n",
    "        for i in range(self.no_iterations):\n",
    "            y_hat = np.dot(X, self.weights) + self.bias\n",
    "            loss = self._mean_sqr_error(y, y_hat)\n",
    "            self.loss.append(loss)\n",
    "            \n",
    "            partial_w = (1 / X.shape[0]) * (2 * np.dot(X.T, (y_hat - y)))\n",
    "            partial_d = (1 / X.shape[0]) * (2 * np.sum(y_hat - y))\n",
    "            \n",
    "            self.weights -= self.learning_rate * partial_w\n",
    "            self.bias -= self.learning_rate * partial_d\n",
    "            \n",
    "    def predict(self, X):\n",
    "        return np.dot(X, self.weights) + self.bias\n",
    "        "
   ]
  },
  {
   "cell_type": "code",
   "execution_count": 23,
   "id": "05bd94ad",
   "metadata": {},
   "outputs": [],
   "source": [
    "data = load_diabetes()\n",
    "X = data.data\n",
    "y = data.target"
   ]
  },
  {
   "cell_type": "code",
   "execution_count": 24,
   "id": "5a7938b5",
   "metadata": {},
   "outputs": [],
   "source": [
    "X_train, X_test, y_train, y_test = train_test_split(X, y, random_state=42, test_size=0.2)"
   ]
  },
  {
   "cell_type": "code",
   "execution_count": 25,
   "id": "e4fe9d0f",
   "metadata": {},
   "outputs": [
    {
     "data": {
      "text/plain": [
       "array([  57.01554737,  -44.13781863,  269.89143674,  192.64514651,\n",
       "         27.72222515,    2.18960209, -147.70003766,  136.38206323,\n",
       "        224.11121915,  134.72758341])"
      ]
     },
     "execution_count": 25,
     "metadata": {},
     "output_type": "execute_result"
    }
   ],
   "source": [
    "model = MyLinearRegression()\n",
    "model.fit(X_train, y_train)\n",
    "my_pred = model.predict(X_test)\n",
    "model.weights"
   ]
  },
  {
   "cell_type": "code",
   "execution_count": 26,
   "id": "708a0f1c",
   "metadata": {},
   "outputs": [
    {
     "data": {
      "text/plain": [
       "152.2631135652031"
      ]
     },
     "execution_count": 26,
     "metadata": {},
     "output_type": "execute_result"
    }
   ],
   "source": [
    "model.bias"
   ]
  },
  {
   "cell_type": "code",
   "execution_count": 27,
   "id": "17cca1c6",
   "metadata": {},
   "outputs": [
    {
     "data": {
      "text/plain": [
       "3090.645533651321"
      ]
     },
     "execution_count": 27,
     "metadata": {},
     "output_type": "execute_result"
    }
   ],
   "source": [
    "mean_squared_error(y_test, my_pred)"
   ]
  },
  {
   "cell_type": "code",
   "execution_count": 28,
   "id": "254833e6",
   "metadata": {},
   "outputs": [
    {
     "data": {
      "text/plain": [
       "array([139.5483133 , 179.52030578, 134.04133298, 291.41193598,\n",
       "       123.78723656,  92.17357677, 258.23409704, 181.33895238,\n",
       "        90.22217862, 108.63143298,  94.13938654, 168.43379636,\n",
       "        53.50669663, 206.63040068, 100.13238561, 130.66881649,\n",
       "       219.53270758, 250.78291772, 196.36682356, 218.57497401,\n",
       "       207.35002447,  88.48361667,  70.43428801, 188.95725301,\n",
       "       154.88720039, 159.35957695, 188.31587948, 180.38835506,\n",
       "        47.98988446, 108.97514644, 174.78080029,  86.36598906,\n",
       "       132.95890535, 184.5410226 , 173.83298051, 190.35863287,\n",
       "       124.41740796, 119.65426903, 147.95402494,  59.05311211,\n",
       "        71.62636914, 107.68722902, 165.45544477, 155.00784964,\n",
       "       171.04558668,  61.45763075,  71.66975626, 114.96330486,\n",
       "        51.57808027, 167.57781958, 152.52505798,  62.95827693,\n",
       "       103.49862017, 109.20495627, 175.63844013, 154.60247734,\n",
       "        94.41476124, 210.74244148, 120.25601864,  77.61590087,\n",
       "       187.93503183, 206.49543321, 140.63018684, 105.59463059,\n",
       "       130.704246  , 202.18650868, 171.1330116 , 164.91246096,\n",
       "       124.72637597, 144.81210187, 181.99631481, 199.41234515,\n",
       "       234.21402489, 145.96053305,  79.86349114, 157.36828831,\n",
       "       192.74737754, 208.8980067 , 158.58505486, 206.0226849 ,\n",
       "       107.47978402, 140.93428553,  54.81856678,  55.92807758,\n",
       "       115.00974554,  78.95886675,  81.55731377,  54.3774778 ,\n",
       "       166.25477778])"
      ]
     },
     "execution_count": 28,
     "metadata": {},
     "output_type": "execute_result"
    }
   ],
   "source": [
    "sk_model = LinearRegression()\n",
    "sk_model.fit(X_train, y_train)\n",
    "sk_pred = sk_model.predict(X_test)\n",
    "sk_pred"
   ]
  },
  {
   "cell_type": "code",
   "execution_count": 29,
   "id": "0147185b",
   "metadata": {},
   "outputs": [
    {
     "data": {
      "text/plain": [
       "2900.1732878832318"
      ]
     },
     "execution_count": 29,
     "metadata": {},
     "output_type": "execute_result"
    }
   ],
   "source": [
    "mean_squared_error(y_test,sk_pred)"
   ]
  },
  {
   "cell_type": "code",
   "execution_count": null,
   "id": "e30fc99f",
   "metadata": {},
   "outputs": [],
   "source": []
  }
 ],
 "metadata": {
  "kernelspec": {
   "display_name": "Python 3 (ipykernel)",
   "language": "python",
   "name": "python3"
  },
  "language_info": {
   "codemirror_mode": {
    "name": "ipython",
    "version": 3
   },
   "file_extension": ".py",
   "mimetype": "text/x-python",
   "name": "python",
   "nbconvert_exporter": "python",
   "pygments_lexer": "ipython3",
   "version": "3.8.10"
  }
 },
 "nbformat": 4,
 "nbformat_minor": 5
}
