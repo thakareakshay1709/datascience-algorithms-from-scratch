{
 "cells": [
  {
   "cell_type": "markdown",
   "id": "e3af75c2",
   "metadata": {},
   "source": [
    "### Theory & Maths about Linear Regression\n",
    "\n",
    "1. Training linear regression means finding the best coefficients\n",
    "2. Best coefficients can be obtained with gradient decent algorithm\n",
    "\n",
    "### Math behind linear regression\n",
    "\n",
    "1. Y = mx + c (m = slopes, c = intercept)\n",
    "2. Finding weights (slopes) and bias (intercepts) can be done with gradient decent\n",
    "\n",
    "$$ \\large \\hat{y} = wx + b $$\n",
    "\n",
    "Cost function - To minimize Mean Squared Error\n",
    "$$ \\large MSE = \\frac{1}{N} \\sum_{i=1}^{n} ((y_i - \\hat{y})^2 $$\n",
    "\n",
    "$$ \\large MSE = \\frac{1}{N} \\sum_{i=1}^{n} ((y_i - (wx_i + b))^2 $$\n",
    "\n",
    "MSE with respect to each parameter\n",
    "$$ \\large \\partial_w = \\frac{1}{N} \\sum_{i=1}^{n} 2x_i(\\hat{y} - y) $$\n",
    "$$ \\large \\partial_b = \\frac{1}{N} \\sum_{i=1}^{n} 2(\\hat{y} - y) $$\n",
    "\n",
    "Updating weithts and bias\n",
    "\n",
    "$$ \\large w = w - \\alpha \\cdot \\partial_w $$\n",
    "$$ \\large b = b - \\alpha \\cdot \\partial_b $$"
   ]
  },
  {
   "cell_type": "code",
   "execution_count": null,
   "id": "089d30ca",
   "metadata": {},
   "outputs": [],
   "source": []
  }
 ],
 "metadata": {
  "kernelspec": {
   "display_name": "Python 3 (ipykernel)",
   "language": "python",
   "name": "python3"
  },
  "language_info": {
   "codemirror_mode": {
    "name": "ipython",
    "version": 3
   },
   "file_extension": ".py",
   "mimetype": "text/x-python",
   "name": "python",
   "nbconvert_exporter": "python",
   "pygments_lexer": "ipython3",
   "version": "3.8.10"
  }
 },
 "nbformat": 4,
 "nbformat_minor": 5
}
