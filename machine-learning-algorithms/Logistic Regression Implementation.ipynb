{
 "cells": [
  {
   "cell_type": "code",
   "execution_count": 33,
   "id": "c1a0aebe",
   "metadata": {},
   "outputs": [],
   "source": [
    "# importing necessary packages\n",
    "import numpy as np\n",
    "from sklearn.model_selection import train_test_split\n",
    "from sklearn.metrics import accuracy_score\n",
    "from sklearn.datasets import load_breast_cancer # toy dataset\n",
    "from sklearn.linear_model import LogisticRegression # to compare results with our custom model"
   ]
  },
  {
   "cell_type": "markdown",
   "id": "bd99d8f2",
   "metadata": {},
   "source": [
    "Theory & Formula:\n",
    "\n",
    "Line function : "
   ]
  },
  {
   "cell_type": "code",
   "execution_count": 34,
   "id": "6bc82ab0",
   "metadata": {},
   "outputs": [],
   "source": [
    "class MyLogisticRegressor:\n",
    "    '''\n",
    "    Implementing logistic regression algorithm from scratch\n",
    "    '''\n",
    "    def __init__(self, n_iter=1000, learning_rate=0.01):\n",
    "        '''\n",
    "        Initializing hyperparameters\n",
    "        '''\n",
    "        self.n_iter = n_iter\n",
    "        self.learning_rate = learning_rate\n",
    "        self.weights = None\n",
    "        self.bias = None\n",
    "        \n",
    "    @staticmethod\n",
    "    def hypothesis(x):\n",
    "        '''\n",
    "        Helper function to calculate the hypothesis of logistic regression.\n",
    "        Formula : returns sigmoid values (F(x) = 1 / (1 + exp(-x)))\n",
    "        '''\n",
    "        return 1 / (1 + np.exp(-x))\n",
    "    \n",
    "    def fit(self, X, y):\n",
    "        '''\n",
    "        Function to train logistic regression model\n",
    "        '''\n",
    "        m = 1 / X.shape[0] # no of examples\n",
    "        \n",
    "        self.weights = np.zeros(X.shape[1]) # initializing weights for every feature\n",
    "        self.bias = 0\n",
    "        \n",
    "        for i in range(self.n_iter):\n",
    "            # getting initial probabilites from sigmoid function\n",
    "            initial_probabilites = self.hypothesis(np.dot(X, self.weights) + self.bias)\n",
    "            \n",
    "            # calculating partial derivates\n",
    "            dW = 1/m * (2 * np.dot(X.T, (initial_probabilites - y)))\n",
    "            db = 1/m * (2 * np.sum(initial_probabilites - y))\n",
    "            \n",
    "            # updating weights\n",
    "            self.weights -= self.learning_rate * dW\n",
    "            self.bias -= self.learning_rate * db\n",
    "            \n",
    "        print(f'Final weights : \\n {self.weights}')\n",
    "        print(f'Final bias : {self.bias}')\n",
    "        \n",
    "    def predict_proba(self, X):\n",
    "        '''\n",
    "        Helper function to calculate the probabilities of classes\n",
    "        '''\n",
    "        # gather the weights and bias calculated in training\n",
    "        probs = np.dot(X, self.weights) + self.bias\n",
    "        \n",
    "        return self.hypothesis(probs)\n",
    "    \n",
    "    def predict(self, X, threshold=0.5):\n",
    "        '''\n",
    "        Helper function to predict the values using threshold\n",
    "        '''\n",
    "        probs = self.predict_proba(X)\n",
    "        return np.array([1  if p >= threshold else 0 for p in probs])\n",
    "    \n",
    "        \n",
    "        \n",
    "        "
   ]
  },
  {
   "cell_type": "code",
   "execution_count": 35,
   "id": "b5484c7a",
   "metadata": {},
   "outputs": [
    {
     "name": "stdout",
     "output_type": "stream",
     "text": [
      "Original dataset : (455, 30), Train dataset : (114, 30)\n",
      "Final weights : \n",
      " [ 1.34490465e+06  1.75562155e+06  7.81335691e+06  3.21017424e+06\n",
      "  1.21047523e+04 -6.17797985e+03 -2.45652263e+04 -1.05181911e+04\n",
      "  2.27853612e+04  9.76368780e+03  5.34938222e+03  1.28933119e+05\n",
      " -3.16400425e+04 -3.33034412e+06  6.49167578e+02 -1.38989110e+03\n",
      " -2.72842104e+03 -3.37407238e+02  2.06095480e+03  2.14721615e+02\n",
      "  1.41190801e+06  2.18128702e+06  7.88280657e+06 -4.62463957e+06\n",
      "  1.47838584e+04 -2.71601944e+04 -5.29450078e+04 -1.23953942e+04\n",
      "  2.91477591e+04  8.91410825e+03]\n",
      "Final bias : 175998.54999999978\n",
      "My predictions : [0 0 0 1 1 0 0 0 1 1 1 0 1 0 1 0 1 1 1 0 0 1 0 1 1 1 1 1 1 0 1 1 1 0 1 1 0\n",
      " 1 0 0 1 0 1 1 1 1 1 1 1 1 0 0 1 1 1 1 1 0 0 1 1 0 0 1 1 1 0 0 1 1 0 0 1 1\n",
      " 1 1 1 0 1 1 0 1 0 0 0 0 0 0 1 1 1 1 0 1 1 1 0 0 1 0 0 1 0 0 1 1 1 0 1 0 0\n",
      " 1 1 0]\n"
     ]
    },
    {
     "name": "stderr",
     "output_type": "stream",
     "text": [
      "/tmp/ipykernel_175/3360766839.py:20: RuntimeWarning: overflow encountered in exp\n",
      "  return 1 / (1 + np.exp(-x))\n"
     ]
    },
    {
     "name": "stdout",
     "output_type": "stream",
     "text": [
      "SK predictions : [1 0 0 1 1 0 0 0 1 1 1 0 1 0 1 0 1 1 1 0 1 1 0 1 1 1 1 1 1 0 1 1 1 1 1 1 0\n",
      " 1 0 1 1 0 1 1 1 1 1 1 1 1 0 0 1 1 1 1 1 0 1 1 1 0 0 1 1 1 0 0 1 1 0 0 1 0\n",
      " 1 1 1 1 1 1 0 1 1 0 0 0 0 0 1 1 1 1 1 1 1 1 0 0 1 0 0 1 0 0 1 1 1 0 1 1 0\n",
      " 1 0 0]\n",
      "Accuracy\n",
      " My model : 0.9473684210526315\n",
      " Sk model : 0.956140350877193\n"
     ]
    },
    {
     "name": "stderr",
     "output_type": "stream",
     "text": [
      "/mnt/d/programming/python/datascience-algorithms-from-scratch/machine-learning-algorithms/mlvenv/lib/python3.8/site-packages/sklearn/linear_model/_logistic.py:763: ConvergenceWarning: lbfgs failed to converge (status=1):\n",
      "STOP: TOTAL NO. of ITERATIONS REACHED LIMIT.\n",
      "\n",
      "Increase the number of iterations (max_iter) or scale the data as shown in:\n",
      "    https://scikit-learn.org/stable/modules/preprocessing.html\n",
      "Please also refer to the documentation for alternative solver options:\n",
      "    https://scikit-learn.org/stable/modules/linear_model.html#logistic-regression\n",
      "  n_iter_i = _check_optimize_result(\n"
     ]
    }
   ],
   "source": [
    "dataset = load_breast_cancer() # loading data\n",
    "\n",
    "X = dataset.data # seperate features\n",
    "y = dataset.target # seperate target variables\n",
    "\n",
    "# creating training and test dataset\n",
    "X_train, X_test, y_train, y_test = train_test_split(X, y, test_size = 0.2, random_state=42)\n",
    "\n",
    "print(f'Original dataset : {X_train.shape}, Train dataset : {X_test.shape}')\n",
    "\n",
    "my_model = MyLogisticRegressor()\n",
    "my_model.fit(X_train, y_train)\n",
    "m_preds = my_model.predict(X_test)\n",
    "print(f'My predictions : {m_preds}')\n",
    "\n",
    "sk_model = LogisticRegression()\n",
    "sk_model.fit(X_train, y_train)\n",
    "s_preds = sk_model.predict(X_test)\n",
    "print(f'SK predictions : {s_preds}')\n",
    "\n",
    "print(f'Accuracy\\n My model : {accuracy_score(y_test, m_preds)} \\n Sk model : {accuracy_score(y_test, s_preds)}')"
   ]
  },
  {
   "cell_type": "code",
   "execution_count": null,
   "id": "80835ed4",
   "metadata": {},
   "outputs": [],
   "source": []
  }
 ],
 "metadata": {
  "kernelspec": {
   "display_name": "Python 3 (ipykernel)",
   "language": "python",
   "name": "python3"
  },
  "language_info": {
   "codemirror_mode": {
    "name": "ipython",
    "version": 3
   },
   "file_extension": ".py",
   "mimetype": "text/x-python",
   "name": "python",
   "nbconvert_exporter": "python",
   "pygments_lexer": "ipython3",
   "version": "3.8.5"
  }
 },
 "nbformat": 4,
 "nbformat_minor": 5
}
